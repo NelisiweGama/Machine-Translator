{
 "cells": [
  {
   "cell_type": "code",
   "execution_count": 2,
   "metadata": {
    "scrolled": true
   },
   "outputs": [],
   "source": [
    "import pandas as pd \n",
    "\n",
    "en = pd.read_csv(\"./Data/Data_Autshumato/eng_autshumato.txt\",sep= \"delimeter\", header=None, engine='python')\n",
    "zu = pd.read_csv(\"./Data/Data_Autshumato/zul_autshumato.txt\",sep= \"delimeter\", header=None, engine='python')\n"
   ]
  },
  {
   "cell_type": "code",
   "execution_count": 3,
   "metadata": {},
   "outputs": [],
   "source": [
    "df = pd.concat([en, zu], axis=1, sort=False)\n"
   ]
  },
  {
   "cell_type": "code",
   "execution_count": 4,
   "metadata": {},
   "outputs": [
    {
     "data": {
      "text/html": [
       "<div>\n",
       "<style scoped>\n",
       "    .dataframe tbody tr th:only-of-type {\n",
       "        vertical-align: middle;\n",
       "    }\n",
       "\n",
       "    .dataframe tbody tr th {\n",
       "        vertical-align: top;\n",
       "    }\n",
       "\n",
       "    .dataframe thead th {\n",
       "        text-align: right;\n",
       "    }\n",
       "</style>\n",
       "<table border=\"1\" class=\"dataframe\">\n",
       "  <thead>\n",
       "    <tr style=\"text-align: right;\">\n",
       "      <th></th>\n",
       "      <th>0</th>\n",
       "      <th>0</th>\n",
       "    </tr>\n",
       "  </thead>\n",
       "  <tbody>\n",
       "    <tr>\n",
       "      <th>0</th>\n",
       "      <td>freedom of artistic creativity ;</td>\n",
       "      <td>inkululeko yokwakha izinto ngokusebenzisa ubuc...</td>\n",
       "    </tr>\n",
       "    <tr>\n",
       "      <th>1</th>\n",
       "      <td>A juristic person is entitled to the rights in...</td>\n",
       "      <td>Lezozakhiwo ezithathwa njengabantu ngumthetho ...</td>\n",
       "    </tr>\n",
       "    <tr>\n",
       "      <th>2</th>\n",
       "      <td>We , the people of South Africa , Recognise th...</td>\n",
       "      <td>Thina, Bantu baseNingizimu Afrika, Siyakukhumb...</td>\n",
       "    </tr>\n",
       "    <tr>\n",
       "      <th>3</th>\n",
       "      <td>Everyone has the right to bodily and psycholog...</td>\n",
       "      <td>Wonke umuntu unelungelo lokukhululeka nokuhlon...</td>\n",
       "    </tr>\n",
       "    <tr>\n",
       "      <th>4</th>\n",
       "      <td>When applying a provision of the Bill of Right...</td>\n",
       "      <td>Uma isebenzisa izimiso zoMqulu wamaLungelo kub...</td>\n",
       "    </tr>\n",
       "  </tbody>\n",
       "</table>\n",
       "</div>"
      ],
      "text/plain": [
       "                                                   0  \\\n",
       "0                   freedom of artistic creativity ;   \n",
       "1  A juristic person is entitled to the rights in...   \n",
       "2  We , the people of South Africa , Recognise th...   \n",
       "3  Everyone has the right to bodily and psycholog...   \n",
       "4  When applying a provision of the Bill of Right...   \n",
       "\n",
       "                                                   0  \n",
       "0  inkululeko yokwakha izinto ngokusebenzisa ubuc...  \n",
       "1  Lezozakhiwo ezithathwa njengabantu ngumthetho ...  \n",
       "2  Thina, Bantu baseNingizimu Afrika, Siyakukhumb...  \n",
       "3  Wonke umuntu unelungelo lokukhululeka nokuhlon...  \n",
       "4  Uma isebenzisa izimiso zoMqulu wamaLungelo kub...  "
      ]
     },
     "execution_count": 4,
     "metadata": {},
     "output_type": "execute_result"
    }
   ],
   "source": [
    "df.head()"
   ]
  },
  {
   "cell_type": "code",
   "execution_count": 7,
   "metadata": {},
   "outputs": [],
   "source": [
    "df.columns = ['english', 'zulu']"
   ]
  },
  {
   "cell_type": "code",
   "execution_count": 8,
   "metadata": {},
   "outputs": [
    {
     "data": {
      "text/html": [
       "<div>\n",
       "<style scoped>\n",
       "    .dataframe tbody tr th:only-of-type {\n",
       "        vertical-align: middle;\n",
       "    }\n",
       "\n",
       "    .dataframe tbody tr th {\n",
       "        vertical-align: top;\n",
       "    }\n",
       "\n",
       "    .dataframe thead th {\n",
       "        text-align: right;\n",
       "    }\n",
       "</style>\n",
       "<table border=\"1\" class=\"dataframe\">\n",
       "  <thead>\n",
       "    <tr style=\"text-align: right;\">\n",
       "      <th></th>\n",
       "      <th>english</th>\n",
       "      <th>zulu</th>\n",
       "    </tr>\n",
       "  </thead>\n",
       "  <tbody>\n",
       "    <tr>\n",
       "      <th>0</th>\n",
       "      <td>freedom of artistic creativity ;</td>\n",
       "      <td>inkululeko yokwakha izinto ngokusebenzisa ubuc...</td>\n",
       "    </tr>\n",
       "    <tr>\n",
       "      <th>1</th>\n",
       "      <td>A juristic person is entitled to the rights in...</td>\n",
       "      <td>Lezozakhiwo ezithathwa njengabantu ngumthetho ...</td>\n",
       "    </tr>\n",
       "    <tr>\n",
       "      <th>2</th>\n",
       "      <td>We , the people of South Africa , Recognise th...</td>\n",
       "      <td>Thina, Bantu baseNingizimu Afrika, Siyakukhumb...</td>\n",
       "    </tr>\n",
       "    <tr>\n",
       "      <th>3</th>\n",
       "      <td>Everyone has the right to bodily and psycholog...</td>\n",
       "      <td>Wonke umuntu unelungelo lokukhululeka nokuhlon...</td>\n",
       "    </tr>\n",
       "    <tr>\n",
       "      <th>4</th>\n",
       "      <td>When applying a provision of the Bill of Right...</td>\n",
       "      <td>Uma isebenzisa izimiso zoMqulu wamaLungelo kub...</td>\n",
       "    </tr>\n",
       "  </tbody>\n",
       "</table>\n",
       "</div>"
      ],
      "text/plain": [
       "                                             english  \\\n",
       "0                   freedom of artistic creativity ;   \n",
       "1  A juristic person is entitled to the rights in...   \n",
       "2  We , the people of South Africa , Recognise th...   \n",
       "3  Everyone has the right to bodily and psycholog...   \n",
       "4  When applying a provision of the Bill of Right...   \n",
       "\n",
       "                                                zulu  \n",
       "0  inkululeko yokwakha izinto ngokusebenzisa ubuc...  \n",
       "1  Lezozakhiwo ezithathwa njengabantu ngumthetho ...  \n",
       "2  Thina, Bantu baseNingizimu Afrika, Siyakukhumb...  \n",
       "3  Wonke umuntu unelungelo lokukhululeka nokuhlon...  \n",
       "4  Uma isebenzisa izimiso zoMqulu wamaLungelo kub...  "
      ]
     },
     "execution_count": 8,
     "metadata": {},
     "output_type": "execute_result"
    }
   ],
   "source": [
    "df.head()"
   ]
  },
  {
   "cell_type": "code",
   "execution_count": 13,
   "metadata": {},
   "outputs": [],
   "source": [
    "df = df.apply(lambda x: x.astype(str).str.lower())"
   ]
  },
  {
   "cell_type": "code",
   "execution_count": 14,
   "metadata": {},
   "outputs": [],
   "source": [
    "df[\"english\"] = df['english'].str.replace('[^\\w\\s]','')"
   ]
  },
  {
   "cell_type": "code",
   "execution_count": 15,
   "metadata": {},
   "outputs": [],
   "source": [
    "df[\"zulu\"] = df['zulu'].str.replace('[^\\w\\s]','')"
   ]
  },
  {
   "cell_type": "code",
   "execution_count": 16,
   "metadata": {},
   "outputs": [
    {
     "data": {
      "text/html": [
       "<div>\n",
       "<style scoped>\n",
       "    .dataframe tbody tr th:only-of-type {\n",
       "        vertical-align: middle;\n",
       "    }\n",
       "\n",
       "    .dataframe tbody tr th {\n",
       "        vertical-align: top;\n",
       "    }\n",
       "\n",
       "    .dataframe thead th {\n",
       "        text-align: right;\n",
       "    }\n",
       "</style>\n",
       "<table border=\"1\" class=\"dataframe\">\n",
       "  <thead>\n",
       "    <tr style=\"text-align: right;\">\n",
       "      <th></th>\n",
       "      <th>english</th>\n",
       "      <th>zulu</th>\n",
       "    </tr>\n",
       "  </thead>\n",
       "  <tbody>\n",
       "    <tr>\n",
       "      <th>0</th>\n",
       "      <td>freedom of artistic creativity</td>\n",
       "      <td>inkululeko yokwakha izinto ngokusebenzisa ubuciko</td>\n",
       "    </tr>\n",
       "    <tr>\n",
       "      <th>1</th>\n",
       "      <td>a juristic person is entitled to the rights in...</td>\n",
       "      <td>lezozakhiwo ezithathwa njengabantu ngumthetho ...</td>\n",
       "    </tr>\n",
       "    <tr>\n",
       "      <th>2</th>\n",
       "      <td>we  the people of south africa  recognise the ...</td>\n",
       "      <td>thina bantu baseningizimu afrika siyakukhumbul...</td>\n",
       "    </tr>\n",
       "    <tr>\n",
       "      <th>3</th>\n",
       "      <td>everyone has the right to bodily and psycholog...</td>\n",
       "      <td>wonke umuntu unelungelo lokukhululeka nokuhlon...</td>\n",
       "    </tr>\n",
       "    <tr>\n",
       "      <th>4</th>\n",
       "      <td>when applying a provision of the bill of right...</td>\n",
       "      <td>uma isebenzisa izimiso zomqulu wamalungelo kub...</td>\n",
       "    </tr>\n",
       "  </tbody>\n",
       "</table>\n",
       "</div>"
      ],
      "text/plain": [
       "                                             english  \\\n",
       "0                    freedom of artistic creativity    \n",
       "1  a juristic person is entitled to the rights in...   \n",
       "2  we  the people of south africa  recognise the ...   \n",
       "3  everyone has the right to bodily and psycholog...   \n",
       "4  when applying a provision of the bill of right...   \n",
       "\n",
       "                                                zulu  \n",
       "0  inkululeko yokwakha izinto ngokusebenzisa ubuciko  \n",
       "1  lezozakhiwo ezithathwa njengabantu ngumthetho ...  \n",
       "2  thina bantu baseningizimu afrika siyakukhumbul...  \n",
       "3  wonke umuntu unelungelo lokukhululeka nokuhlon...  \n",
       "4  uma isebenzisa izimiso zomqulu wamalungelo kub...  "
      ]
     },
     "execution_count": 16,
     "metadata": {},
     "output_type": "execute_result"
    }
   ],
   "source": [
    "df.head()"
   ]
  },
  {
   "cell_type": "code",
   "execution_count": 17,
   "metadata": {},
   "outputs": [],
   "source": [
    "df.to_csv('en_zu_autshumatso.tsv', sep='\\t', index=False)"
   ]
  },
  {
   "cell_type": "code",
   "execution_count": 18,
   "metadata": {},
   "outputs": [
    {
     "name": "stdout",
     "output_type": "stream",
     "text": [
      "Data  en_zu_autshumatso.tsv  translate.ipynb\r\n"
     ]
    }
   ],
   "source": [
    "!ls"
   ]
  },
  {
   "cell_type": "code",
   "execution_count": 19,
   "metadata": {},
   "outputs": [],
   "source": [
    "! cd .."
   ]
  },
  {
   "cell_type": "code",
   "execution_count": 20,
   "metadata": {},
   "outputs": [
    {
     "name": "stdout",
     "output_type": "stream",
     "text": [
      "Data  en_zu_autshumatso.tsv  translate.ipynb\r\n"
     ]
    }
   ],
   "source": [
    "!ls"
   ]
  },
  {
   "cell_type": "code",
   "execution_count": null,
   "metadata": {},
   "outputs": [],
   "source": []
  }
 ],
 "metadata": {
  "kernelspec": {
   "display_name": "Python 3",
   "language": "python",
   "name": "python3"
  },
  "language_info": {
   "codemirror_mode": {
    "name": "ipython",
    "version": 3
   },
   "file_extension": ".py",
   "mimetype": "text/x-python",
   "name": "python",
   "nbconvert_exporter": "python",
   "pygments_lexer": "ipython3",
   "version": "3.7.6"
  }
 },
 "nbformat": 4,
 "nbformat_minor": 2
}
